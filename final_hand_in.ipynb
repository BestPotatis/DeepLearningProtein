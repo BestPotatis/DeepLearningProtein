{
 "cells": [
  {
   "cell_type": "code",
   "execution_count": null,
   "metadata": {},
   "outputs": [],
   "source": [
    "from itertools import cycle, islice\n",
    "import os\n",
    "import torch\n",
    "from torch import nn\n",
    "import torch.optim as optim\n",
    "from torch.utils.data import Dataset, DataLoader, WeightedRandomSampler\n",
    "import numpy as np\n",
    "import json\n",
    "from torch.nn.utils.rnn import pad_sequence\n",
    "from typing import List, Union, Dict\n",
    "from collections import defaultdict"
   ]
  },
  {
   "cell_type": "markdown",
   "metadata": {},
   "source": [
    "Create early stopping class and NN class"
   ]
  },
  {
   "cell_type": "code",
   "execution_count": null,
   "metadata": {},
   "outputs": [],
   "source": [
    "class EarlyStopping:\n",
    "    \"\"\"This code is from: , although adjusted to work for max accuracy as opposed to min loss\"\"\"\n",
    "    \n",
    "    \"\"\"Early stops the training if validation topology accuracy doesn't improve after some given patience.\"\"\"\n",
    "    def __init__(self, patience = 7, verbose = False, delta = 0, path = 'checkpoint.pt', trace_func = print):\n",
    "        \"\"\"\n",
    "        args:\n",
    "            patience (int): how long to wait after last time improved validation accuracy.Default: 7\n",
    "            verbose (bool): if True, prints a message for each validation accuracy improvement. Default: False\n",
    "            delta (float): minimum change in monitored quantity to qualify as improvement. Default: 0\n",
    "            path (str): path for checkpoint save location. Default: 'checkpoint.pt'\n",
    "            trace_func (function): trace print function. Default: print            \n",
    "        \"\"\"\n",
    "        \n",
    "        self.patience = patience\n",
    "        self.counter = 0\n",
    "        \n",
    "        self.path = path\n",
    "        self.trace_func = trace_func\n",
    "        self.verbose = verbose\n",
    "        \n",
    "        self.best_score = None\n",
    "        self.delta = delta\n",
    "        self.early_stop = False\n",
    "        self.val_acc_max = np.Inf\n",
    "        \n",
    "    def __call__(self, val_acc, model):\n",
    "        score = -val_acc\n",
    "\n",
    "        if self.best_score is None:\n",
    "            self.best_score = score\n",
    "            self.save_checkpoint(val_acc, model)\n",
    "        \n",
    "        # changing the inequality such that the accuracy keeps getting better\n",
    "        elif score >= self.best_score + self.delta:\n",
    "            self.counter += 1\n",
    "\n",
    "            if self.counter >= self.patience:\n",
    "                self.early_stop = True\n",
    "        else:\n",
    "            self.best_score = score\n",
    "            self.save_checkpoint(val_acc, model)\n",
    "            self.counter = 0\n",
    "\n",
    "    def save_checkpoint(self, val_acc, model):\n",
    "        '''Saves model when validation accuracy increases.'''\n",
    "        if self.verbose:\n",
    "            self.trace_func(f'Validation accuracy increased ({self.val_loss_min:.6f} --> {val_loss:.6f}).  Saving model ...')\n",
    "            \n",
    "        torch.save(model.state_dict(), self.path)\n",
    "        self.val_acc_max = val_acc"
   ]
  }
 ],
 "metadata": {
  "kernelspec": {
   "display_name": "dl_exam",
   "language": "python",
   "name": "python3"
  },
  "language_info": {
   "name": "python",
   "version": "3.9.18"
  }
 },
 "nbformat": 4,
 "nbformat_minor": 2
}
