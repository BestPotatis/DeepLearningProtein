{
 "cells": [
  {
   "cell_type": "code",
   "execution_count": 1,
   "metadata": {},
   "outputs": [
    {
     "name": "stderr",
     "output_type": "stream",
     "text": [
      "/Users/helenakeitum/miniconda3/envs/inverse/lib/python3.9/site-packages/tqdm/auto.py:21: TqdmWarning: IProgress not found. Please update jupyter and ipywidgets. See https://ipywidgets.readthedocs.io/en/stable/user_install.html\n",
      "  from .autonotebook import tqdm as notebook_tqdm\n"
     ]
    }
   ],
   "source": [
    "# load modules\n",
    "import os\n",
    "import json\n",
    "import numpy as np\n",
    "import esm"
   ]
  },
  {
   "cell_type": "code",
   "execution_count": 2,
   "metadata": {},
   "outputs": [
    {
     "name": "stderr",
     "output_type": "stream",
     "text": [
      "/Users/helenakeitum/miniconda3/envs/inverse/lib/python3.9/site-packages/esm/pretrained.py:215: UserWarning: Regression weights not found, predicting contacts will not produce correct results.\n",
      "  warnings.warn(\n"
     ]
    }
   ],
   "source": [
    "# import model\n",
    "model, alphabet = esm.pretrained.esm_if1_gvp4_t16_142M_UR50()\n",
    "model = model.eval()"
   ]
  },
  {
   "cell_type": "code",
   "execution_count": 3,
   "metadata": {},
   "outputs": [],
   "source": [
    "# import labels\n",
    "f = open(\"DeepTMHMM.partitions.json\")\n",
    "labels = json.load(f)"
   ]
  },
  {
   "cell_type": "code",
   "execution_count": 4,
   "metadata": {},
   "outputs": [
    {
     "ename": "AssertionError",
     "evalue": "",
     "output_type": "error",
     "traceback": [
      "\u001b[0;31m---------------------------------------------------------------------------\u001b[0m",
      "\u001b[0;31mAssertionError\u001b[0m                            Traceback (most recent call last)",
      "\u001b[1;32m/Users/helenakeitum/Desktop/DeepLearningProtein/create_latent_dataset.ipynb Cell 4\u001b[0m line \u001b[0;36m2\n\u001b[1;32m     <a href='vscode-notebook-cell:/Users/helenakeitum/Desktop/DeepLearningProtein/create_latent_dataset.ipynb#W3sZmlsZQ%3D%3D?line=26'>27</a>\u001b[0m os\u001b[39m.\u001b[39mmakedirs(os\u001b[39m.\u001b[39mpath\u001b[39m.\u001b[39mdirname(encoder_path), exist_ok\u001b[39m=\u001b[39m\u001b[39mTrue\u001b[39;00m)\n\u001b[1;32m     <a href='vscode-notebook-cell:/Users/helenakeitum/Desktop/DeepLearningProtein/create_latent_dataset.ipynb#W3sZmlsZQ%3D%3D?line=27'>28</a>\u001b[0m np\u001b[39m.\u001b[39msave(encoder_path, data)\n\u001b[0;32m---> <a href='vscode-notebook-cell:/Users/helenakeitum/Desktop/DeepLearningProtein/create_latent_dataset.ipynb#W3sZmlsZQ%3D%3D?line=28'>29</a>\u001b[0m \u001b[39massert\u001b[39;00m \u001b[39m1\u001b[39m \u001b[39m==\u001b[39m \u001b[39m0\u001b[39m\n",
      "\u001b[0;31mAssertionError\u001b[0m: "
     ]
    }
   ],
   "source": [
    "# get representation structure for all proteins\n",
    "for cv in labels.keys():\n",
    "    for i, protein in enumerate(labels[cv]):\n",
    "        \n",
    "        path = f\"proteins/{cv}/{protein['id']}.pdb\"  \n",
    "        # if protein does not exists in alphafold-db, skip over \n",
    "        if not os.path.exists(path):\n",
    "            print(\"this one didn't exist: \", protein['id'])\n",
    "            continue\n",
    "              \n",
    "        data = {}\n",
    "        \n",
    "        # receive 3-D structure (Atom array (of amino acids) including 3-D coordinates and other info)        \n",
    "        structure = esm.inverse_folding.util.load_structure(path)\n",
    "        \n",
    "        # get coordinates for each amino acid's N-terminal, alpha-carbon and C-terminal (first three in pdb)\n",
    "        coords, native_seq = esm.inverse_folding.util.extract_coords_from_structure(structure)\n",
    "\n",
    "        # get encoder output as structure representation shape: (amino acid, encoder dimension)\n",
    "        rep = esm.inverse_folding.util.get_encoder_output(model, alphabet, coords)\n",
    "        \n",
    "        data[\"data\"] = rep.detach().numpy()\n",
    "        data[\"labels\"] = protein[\"labels\"]\n",
    "        \n",
    "        # create directory and save data as .npy file\n",
    "        encoder_path = f\"encoder_proteins/{cv}/{protein['id']}\"\n",
    "        os.makedirs(os.path.dirname(encoder_path), exist_ok=True)\n",
    "        np.save(encoder_path, data)    "
   ]
  },
  {
   "cell_type": "code",
   "execution_count": 5,
   "metadata": {},
   "outputs": [
    {
     "name": "stdout",
     "output_type": "stream",
     "text": [
      "{'data': array([[ 0.01676764,  0.10006791, -0.22470556, ...,  0.45647484,\n",
      "         0.14616954, -0.46214253],\n",
      "       [-1.4381772 , -0.7790984 , -0.802924  , ...,  0.30524823,\n",
      "         0.01956351,  0.10650016],\n",
      "       [-1.3221653 , -0.62276614, -0.8991547 , ...,  0.25747558,\n",
      "        -0.02869022,  0.02802757],\n",
      "       ...,\n",
      "       [ 0.16744782,  0.8542608 , -0.05963039, ..., -0.27786946,\n",
      "        -0.11583645, -0.28408888],\n",
      "       [ 0.6397855 ,  0.04167555,  0.37690443, ...,  0.21222025,\n",
      "        -0.20938833, -0.33905762],\n",
      "       [ 1.0578748 , -0.11029857,  0.7357471 , ...,  0.21586058,\n",
      "         0.34215224,  0.15475065]], dtype=float32), 'labels': 'SSSSSSSSSSSSSSSSSSSSSSSSSPPPPPPPPPPPPPPPPPPPPPPPPPPPPPPPPPPPPPPPPPPPBBBBBBBOOOOOOOOOOOOOOOOOOOOOOOOOOOOBBBBBBBPPPPPPPPBBBBBBBOOOOOOOOOOOOOOOOOOOOOOOOOBBBBBBBBPPPPPPPPBBBBBBBBOOOOOOOOOOOOOOOOOOOOOOOOOOOOOOOOOOOOOOOOOOOOOOOOOOOOOOOOOBBBBBBBBBPPPPPPBBBBBBBBOOOOOOOOOOOOOOOOOOOOOOOOOOOOOOOOOOOOOOOOOOOBBBBBBBBBBPPPPBBBBBBBBBOOOOOOOOOOOOOOOOOOOOOOOOOOOOOOBBBBBBBBBBPPPBBBBBBBBOOOOOOOOOOOOOOOOOOOOOBBBBBBBBBPPPPBBBBBBBBOOOOOOOOOOOOOOOOOOOOOOOOBBBBBBBPP'}\n"
     ]
    }
   ],
   "source": [
    "# example of loaded dataset\n",
    "read_dictionary = np.load(encoder_path + \".npy\", allow_pickle='TRUE').item()\n",
    "print(read_dictionary) # displays \"world\""
   ]
  }
 ],
 "metadata": {
  "kernelspec": {
   "display_name": "inverse",
   "language": "python",
   "name": "python3"
  },
  "language_info": {
   "codemirror_mode": {
    "name": "ipython",
    "version": 3
   },
   "file_extension": ".py",
   "mimetype": "text/x-python",
   "name": "python",
   "nbconvert_exporter": "python",
   "pygments_lexer": "ipython3",
   "version": "3.9.18"
  }
 },
 "nbformat": 4,
 "nbformat_minor": 2
}
