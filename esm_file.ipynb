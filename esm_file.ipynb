{
 "cells": [
  {
   "cell_type": "code",
   "execution_count": 1,
   "metadata": {},
   "outputs": [
    {
     "name": "stderr",
     "output_type": "stream",
     "text": [
      "/Users/helenakeitum/miniconda3/envs/inverse/lib/python3.9/site-packages/tqdm/auto.py:21: TqdmWarning: IProgress not found. Please update jupyter and ipywidgets. See https://ipywidgets.readthedocs.io/en/stable/user_install.html\n",
      "  from .autonotebook import tqdm as notebook_tqdm\n",
      "/Users/helenakeitum/miniconda3/envs/inverse/lib/python3.9/site-packages/esm/pretrained.py:215: UserWarning: Regression weights not found, predicting contacts will not produce correct results.\n",
      "  warnings.warn(\n"
     ]
    }
   ],
   "source": [
    "from os import listdir\n",
    "from os.path import isfile, join\n",
    "import esm\n",
    "\n",
    "model, alphabet = esm.pretrained.esm_if1_gvp4_t16_142M_UR50()\n",
    "model = model.eval()"
   ]
  },
  {
   "cell_type": "code",
   "execution_count": 5,
   "metadata": {},
   "outputs": [
    {
     "name": "stdout",
     "output_type": "stream",
     "text": [
      "Structure array:\n",
      "(1302,)\n",
      "Coordinates:\n",
      "(434, 3, 3)\n",
      "Native sequence:\n",
      "MDLFLNRKSFVVKSLAITVTALMMSGANAATSDKEEIRKLRQEVEALKALVQEQRQVQQQQQQVQQQQQVQLAEVKAQPQPVAAPASPLAGFKSKAGADVNLYGFVRGDANYIIEGADNDFGDVSKSDGKTHDKLRATAKTTRLGLDFNTPVGDDKVGGKIEVDFAGSTTDSNGSLRIRHAYLTYNNWLFGQTTSNFLSNHAPEMIDFSTNIGGGTKRVPQVRYNYKLGPTTQLFVSAEKGDSTTSVTGDSIKYSLPALTAKITQGYAEGRGSASARVLVENYKSQLADDDKTGWGVAVGTDFKVSDPLKLFADASYVVGDNSYLYGSNSPYAVDGNSIEQNEFVAVQVGGTYKILPNLRSTLAYGAQFSDDGTDYARLNASANEKVQQAWINFIYTPVKPIDLGVEYVNGKRDTFDGKSYKDNRVGLMAKYSF\n"
     ]
    }
   ],
   "source": [
    "# define path for extraction\n",
    "fpath = \"proteins/cv0/A0A0B9X9I7.pdb\" # .pdb format is also acceptable\n",
    "\n",
    "# receive 3-D structure (Atom array (of amino acids) including 3-D coordinates and other info)\n",
    "structure = esm.inverse_folding.util.load_structure(fpath) # chain_id = None\n",
    "\n",
    "# get coordinates for each amino acid's N-terminal, alpha-carbon and C-terminal (first three in pdb)\n",
    "coords, native_seq = esm.inverse_folding.util.extract_coords_from_structure(structure)\n",
    "print('Structure array:')\n",
    "print(structure.shape)\n",
    "\n",
    "print('Coordinates:')\n",
    "print(coords.shape)\n",
    "\n",
    "print('Native sequence:')\n",
    "print(native_seq)"
   ]
  },
  {
   "cell_type": "code",
   "execution_count": 11,
   "metadata": {},
   "outputs": [
    {
     "name": "stdout",
     "output_type": "stream",
     "text": [
      "example of coords:  [[-47.879  31.253  -6.006]\n",
      " [-47.003  30.063  -6.012]\n",
      " [-47.682  29.024  -5.133]]\n"
     ]
    }
   ],
   "source": [
    "print(\"example of coords: \", coords[0])"
   ]
  },
  {
   "cell_type": "code",
   "execution_count": 10,
   "metadata": {},
   "outputs": [
    {
     "data": {
      "text/plain": [
       "(434, torch.Size([434, 512]))"
      ]
     },
     "execution_count": 10,
     "metadata": {},
     "output_type": "execute_result"
    }
   ],
   "source": [
    "# get encoder output as structure representation shape: (amino acid, encoder dimension)\n",
    "rep = esm.inverse_folding.util.get_encoder_output(model, alphabet, coords)\n",
    "len(coords), rep.shape"
   ]
  },
  {
   "cell_type": "code",
   "execution_count": 8,
   "metadata": {},
   "outputs": [],
   "source": [
    "# get representation structure for all proteins\n",
    "\n",
    "for cv in [\"cv0\", \"cv1\", \"cv2\"]:\n",
    "    path = f\"proteins/{cv}/\"\n",
    "    protein_files = [f for f in listdir(path) if isfile(join(path, f))]\n",
    "\n",
    "    for protein in protein_files:\n",
    "        # receive 3-D structure (Atom array (of amino acids) including 3-D coordinates and other info)\n",
    "        structure = esm.inverse_folding.util.load_structure(path + protein) # chain_id = None\n",
    "\n",
    "        # get coordinates for each amino acid's N-terminal, alpha-carbon and C-terminal (first three in pdb)\n",
    "        coords, native_seq = esm.inverse_folding.util.extract_coords_from_structure(structure)\n",
    "\n"
   ]
  },
  {
   "cell_type": "markdown",
   "metadata": {},
   "source": [
    "To-do:\n",
    "1. Extend all data files with .pdb (Check!)\n",
    "2. get rep for all proteins in cv0\n",
    "3. save those as new data file"
   ]
  }
 ],
 "metadata": {
  "kernelspec": {
   "display_name": "inverse",
   "language": "python",
   "name": "python3"
  },
  "language_info": {
   "codemirror_mode": {
    "name": "ipython",
    "version": 3
   },
   "file_extension": ".py",
   "mimetype": "text/x-python",
   "name": "python",
   "nbconvert_exporter": "python",
   "pygments_lexer": "ipython3",
   "version": "3.9.18"
  }
 },
 "nbformat": 4,
 "nbformat_minor": 2
}
