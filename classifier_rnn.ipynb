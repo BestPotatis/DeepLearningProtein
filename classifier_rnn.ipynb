{
 "cells": [
  {
   "cell_type": "code",
   "execution_count": 3,
   "metadata": {},
   "outputs": [],
   "source": [
    "import torch.nn as nn"
   ]
  },
  {
   "cell_type": "code",
   "execution_count": 4,
   "metadata": {},
   "outputs": [
    {
     "name": "stdout",
     "output_type": "stream",
     "text": [
      "RNN(\n",
      "  (lstm): LSTM(512, 200, batch_first=True)\n",
      "  (linear): Linear(in_features=200, out_features=6, bias=False)\n",
      ")\n"
     ]
    }
   ],
   "source": [
    "# create RNN\n",
    "class RNN(nn.Module):\n",
    "    def __init__(self, input_size, hidden_size, num_classes):\n",
    "        super(RNN, self).__init__()\n",
    "        self.hidden_size = hidden_size\n",
    "        # rnn\n",
    "        self.lstm = nn.LSTM(input_size = input_size, hidden_size = hidden_size, \n",
    "                            batch_first = True)\n",
    "\n",
    "        # define fully connected layers\n",
    "        self.linear = nn.Linear(hidden_size, num_classes, bias = False)\n",
    "\n",
    "    def forward(self, x):\n",
    "        # return output and last hidden state\n",
    "        x, (h, c) = self.lstm(x)\n",
    "        \n",
    "        # flatten and fully-connected output layer\n",
    "        x = x.view(-1, self.lstm.hidden_size)\n",
    "        x = self.linear(x)\n",
    "        \n",
    "        return x\n",
    "\n",
    "net = RNN(512, 200, 6)\n",
    "print(net)"
   ]
  }
 ],
 "metadata": {
  "kernelspec": {
   "display_name": "dl_exam",
   "language": "python",
   "name": "python3"
  },
  "language_info": {
   "codemirror_mode": {
    "name": "ipython",
    "version": 3
   },
   "file_extension": ".py",
   "mimetype": "text/x-python",
   "name": "python",
   "nbconvert_exporter": "python",
   "pygments_lexer": "ipython3",
   "version": "3.9.18"
  }
 },
 "nbformat": 4,
 "nbformat_minor": 2
}
